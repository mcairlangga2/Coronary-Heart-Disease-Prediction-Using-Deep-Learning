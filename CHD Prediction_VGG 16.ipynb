{
 "cells": [
  {
   "cell_type": "code",
   "execution_count": 1,
   "id": "834e358c",
   "metadata": {},
   "outputs": [],
   "source": [
    "import matplotlib.pyplot as plt"
   ]
  },
  {
   "cell_type": "code",
   "execution_count": 2,
   "id": "96ddbd65",
   "metadata": {
    "scrolled": false
   },
   "outputs": [
    {
     "name": "stdout",
     "output_type": "stream",
     "text": [
      "[name: \"/device:CPU:0\"\n",
      "device_type: \"CPU\"\n",
      "memory_limit: 268435456\n",
      "locality {\n",
      "}\n",
      "incarnation: 8390083084996258872\n",
      ", name: \"/device:GPU:0\"\n",
      "device_type: \"GPU\"\n",
      "memory_limit: 3660972032\n",
      "locality {\n",
      "  bus_id: 1\n",
      "  links {\n",
      "  }\n",
      "}\n",
      "incarnation: 8848310926764277870\n",
      "physical_device_desc: \"device: 0, name: NVIDIA GeForce RTX 3060 Laptop GPU, pci bus id: 0000:01:00.0, compute capability: 8.6\"\n",
      "]\n"
     ]
    }
   ],
   "source": [
    "from tensorflow.python.client import device_lib\n",
    "print(device_lib.list_local_devices())"
   ]
  },
  {
   "cell_type": "code",
   "execution_count": 3,
   "id": "064573c6",
   "metadata": {
    "scrolled": true
   },
   "outputs": [],
   "source": [
    "import tensorflow as tf\n",
    "from tensorflow.keras.optimizers import RMSprop\n",
    "from tensorflow.keras.preprocessing.image import ImageDataGenerator\n",
    "from tensorflow.keras.applications import VGG16\n",
    "from tensorflow.keras import layers\n",
    "from tensorflow.keras import Model\n",
    "from tensorflow.keras.layers import Input"
   ]
  },
  {
   "cell_type": "code",
   "execution_count": 3,
   "id": "34ab66c9",
   "metadata": {},
   "outputs": [
    {
     "name": "stdout",
     "output_type": "stream",
     "text": [
      "Model: \"vgg16\"\n",
      "_________________________________________________________________\n",
      "Layer (type)                 Output Shape              Param #   \n",
      "=================================================================\n",
      "input_1 (InputLayer)         [(None, 224, 224, 3)]     0         \n",
      "_________________________________________________________________\n",
      "block1_conv1 (Conv2D)        (None, 224, 224, 64)      1792      \n",
      "_________________________________________________________________\n",
      "block1_conv2 (Conv2D)        (None, 224, 224, 64)      36928     \n",
      "_________________________________________________________________\n",
      "block1_pool (MaxPooling2D)   (None, 112, 112, 64)      0         \n",
      "_________________________________________________________________\n",
      "block2_conv1 (Conv2D)        (None, 112, 112, 128)     73856     \n",
      "_________________________________________________________________\n",
      "block2_conv2 (Conv2D)        (None, 112, 112, 128)     147584    \n",
      "_________________________________________________________________\n",
      "block2_pool (MaxPooling2D)   (None, 56, 56, 128)       0         \n",
      "_________________________________________________________________\n",
      "block3_conv1 (Conv2D)        (None, 56, 56, 256)       295168    \n",
      "_________________________________________________________________\n",
      "block3_conv2 (Conv2D)        (None, 56, 56, 256)       590080    \n",
      "_________________________________________________________________\n",
      "block3_conv3 (Conv2D)        (None, 56, 56, 256)       590080    \n",
      "_________________________________________________________________\n",
      "block3_pool (MaxPooling2D)   (None, 28, 28, 256)       0         \n",
      "_________________________________________________________________\n",
      "block4_conv1 (Conv2D)        (None, 28, 28, 512)       1180160   \n",
      "_________________________________________________________________\n",
      "block4_conv2 (Conv2D)        (None, 28, 28, 512)       2359808   \n",
      "_________________________________________________________________\n",
      "block4_conv3 (Conv2D)        (None, 28, 28, 512)       2359808   \n",
      "_________________________________________________________________\n",
      "block4_pool (MaxPooling2D)   (None, 14, 14, 512)       0         \n",
      "_________________________________________________________________\n",
      "block5_conv1 (Conv2D)        (None, 14, 14, 512)       2359808   \n",
      "_________________________________________________________________\n",
      "block5_conv2 (Conv2D)        (None, 14, 14, 512)       2359808   \n",
      "_________________________________________________________________\n",
      "block5_conv3 (Conv2D)        (None, 14, 14, 512)       2359808   \n",
      "_________________________________________________________________\n",
      "block5_pool (MaxPooling2D)   (None, 7, 7, 512)         0         \n",
      "=================================================================\n",
      "Total params: 14,714,688\n",
      "Trainable params: 0\n",
      "Non-trainable params: 14,714,688\n",
      "_________________________________________________________________\n",
      "Model: \"model\"\n",
      "_________________________________________________________________\n",
      "Layer (type)                 Output Shape              Param #   \n",
      "=================================================================\n",
      "input_1 (InputLayer)         [(None, 224, 224, 3)]     0         \n",
      "_________________________________________________________________\n",
      "block1_conv1 (Conv2D)        (None, 224, 224, 64)      1792      \n",
      "_________________________________________________________________\n",
      "block1_conv2 (Conv2D)        (None, 224, 224, 64)      36928     \n",
      "_________________________________________________________________\n",
      "block1_pool (MaxPooling2D)   (None, 112, 112, 64)      0         \n",
      "_________________________________________________________________\n",
      "block2_conv1 (Conv2D)        (None, 112, 112, 128)     73856     \n",
      "_________________________________________________________________\n",
      "block2_conv2 (Conv2D)        (None, 112, 112, 128)     147584    \n",
      "_________________________________________________________________\n",
      "block2_pool (MaxPooling2D)   (None, 56, 56, 128)       0         \n",
      "_________________________________________________________________\n",
      "block3_conv1 (Conv2D)        (None, 56, 56, 256)       295168    \n",
      "_________________________________________________________________\n",
      "block3_conv2 (Conv2D)        (None, 56, 56, 256)       590080    \n",
      "_________________________________________________________________\n",
      "block3_conv3 (Conv2D)        (None, 56, 56, 256)       590080    \n",
      "_________________________________________________________________\n",
      "block3_pool (MaxPooling2D)   (None, 28, 28, 256)       0         \n",
      "_________________________________________________________________\n",
      "block4_conv1 (Conv2D)        (None, 28, 28, 512)       1180160   \n",
      "_________________________________________________________________\n",
      "block4_conv2 (Conv2D)        (None, 28, 28, 512)       2359808   \n",
      "_________________________________________________________________\n",
      "block4_conv3 (Conv2D)        (None, 28, 28, 512)       2359808   \n",
      "_________________________________________________________________\n",
      "block4_pool (MaxPooling2D)   (None, 14, 14, 512)       0         \n",
      "_________________________________________________________________\n",
      "block5_conv1 (Conv2D)        (None, 14, 14, 512)       2359808   \n",
      "_________________________________________________________________\n",
      "block5_conv2 (Conv2D)        (None, 14, 14, 512)       2359808   \n",
      "_________________________________________________________________\n",
      "block5_conv3 (Conv2D)        (None, 14, 14, 512)       2359808   \n",
      "_________________________________________________________________\n",
      "block5_pool (MaxPooling2D)   (None, 7, 7, 512)         0         \n",
      "_________________________________________________________________\n",
      "flatten (Flatten)            (None, 25088)             0         \n",
      "_________________________________________________________________\n",
      "dense (Dense)                (None, 512)               12845568  \n",
      "_________________________________________________________________\n",
      "dropout (Dropout)            (None, 512)               0         \n",
      "_________________________________________________________________\n",
      "dense_1 (Dense)              (None, 2)                 1026      \n",
      "=================================================================\n",
      "Total params: 27,561,282\n",
      "Trainable params: 12,846,594\n",
      "Non-trainable params: 14,714,688\n",
      "_________________________________________________________________\n"
     ]
    }
   ],
   "source": [
    "Initial_Model = VGG16(weights='imagenet',include_top=False,input_tensor=Input(shape=(224,224,3)))\n",
    "for layer in Initial_Model.layers:\n",
    "    layer.trainable = False\n",
    "\n",
    "Initial_Model.summary()\n",
    "x = Initial_Model.output\n",
    "x = layers.Flatten()(x)\n",
    "#x = layers.Dense(512, activation='relu')(x)\n",
    "x = layers.Dense(512, activation='relu')(x)\n",
    "x = layers.Dropout(0.2)(x)\n",
    "x = layers. Dense (2, activation='softmax')(x)\n",
    "\n",
    "model = Model(Initial_Model.input, x)\n",
    "model.compile(optimizer = RMSprop(learning_rate = 5e-6), loss='binary_crossentropy', metrics = ['accuracy'])\n",
    "model.summary()"
   ]
  },
  {
   "cell_type": "code",
   "execution_count": 4,
   "id": "de67e34f",
   "metadata": {},
   "outputs": [
    {
     "name": "stdout",
     "output_type": "stream",
     "text": [
      "Found 1698 images belonging to 2 classes.\n",
      "Found 566 images belonging to 2 classes.\n"
     ]
    }
   ],
   "source": [
    "TRAINING_DIR = 'C:/Users/M Cendekia Airlangga/Dataset/02_Dataset baru/train'\n",
    "train_datagen = ImageDataGenerator(\n",
    "    rescale=1./255.,\n",
    "    fill_mode='nearest')\n",
    "\n",
    "train_generator = train_datagen.flow_from_directory(\n",
    "    TRAINING_DIR,\n",
    "    batch_size=64,\n",
    "    class_mode='categorical',\n",
    "    target_size=(224, 224)\n",
    ")\n",
    "\n",
    "VALIDATION_DIR = 'C:/Users/M Cendekia Airlangga/Dataset/02_Dataset baru/validation'\n",
    "validation_datagen = ImageDataGenerator(rescale= 1./255.)\n",
    "validation_generator = validation_datagen.flow_from_directory(\n",
    "    VALIDATION_DIR,\n",
    "    batch_size=64,\n",
    "    class_mode='categorical',\n",
    "    target_size=(224, 224)\n",
    ")"
   ]
  },
  {
   "cell_type": "code",
   "execution_count": 5,
   "id": "28555d7f",
   "metadata": {},
   "outputs": [
    {
     "name": "stdout",
     "output_type": "stream",
     "text": [
      "WARNING:tensorflow:From <ipython-input-5-c065d4a93a78>:12: Model.fit_generator (from tensorflow.python.keras.engine.training) is deprecated and will be removed in a future version.\n",
      "Instructions for updating:\n",
      "Please use Model.fit, which supports generators.\n",
      "Epoch 1/50\n",
      "27/27 [==============================] - 118s 4s/step - loss: 0.5977 - accuracy: 0.7203 - val_loss: 0.4317 - val_accuracy: 0.7968\n",
      "Epoch 2/50\n",
      "27/27 [==============================] - 118s 4s/step - loss: 0.3863 - accuracy: 0.8528 - val_loss: 0.3153 - val_accuracy: 0.8587\n",
      "Epoch 3/50\n",
      "27/27 [==============================] - 119s 4s/step - loss: 0.2946 - accuracy: 0.8834 - val_loss: 0.2562 - val_accuracy: 0.9081\n",
      "Epoch 4/50\n",
      "27/27 [==============================] - 122s 5s/step - loss: 0.2413 - accuracy: 0.9170 - val_loss: 0.2218 - val_accuracy: 0.9046\n",
      "Epoch 5/50\n",
      "27/27 [==============================] - 122s 5s/step - loss: 0.2131 - accuracy: 0.9252 - val_loss: 0.1901 - val_accuracy: 0.9629\n",
      "Epoch 6/50\n",
      "27/27 [==============================] - 123s 5s/step - loss: 0.1783 - accuracy: 0.9494 - val_loss: 0.1686 - val_accuracy: 0.9382\n",
      "Epoch 7/50\n",
      "27/27 [==============================] - 122s 5s/step - loss: 0.1655 - accuracy: 0.9488 - val_loss: 0.1477 - val_accuracy: 0.9558\n",
      "Epoch 8/50\n",
      "27/27 [==============================] - ETA: 0s - loss: 0.1476 - accuracy: 0.9511\n",
      "Reached 95.00% accuracy, so stopping training!!\n",
      "27/27 [==============================] - 122s 5s/step - loss: 0.1476 - accuracy: 0.9511 - val_loss: 0.1300 - val_accuracy: 0.9788\n"
     ]
    }
   ],
   "source": [
    "ACCURACY_THRESHOLD = 0.95\n",
    "\n",
    "class myCallback(tf.keras.callbacks.Callback): \n",
    "    def on_epoch_end(self, epoch, logs={}): \n",
    "        if(logs.get('accuracy') > ACCURACY_THRESHOLD):   \n",
    "            print(\"\\nReached %2.2f%% accuracy, so stopping training!!\" %(ACCURACY_THRESHOLD*100))   \n",
    "            self.model.stop_training = True\n",
    "        \n",
    "callbacks = myCallback()\n",
    "\n",
    "with tf.device('/gpu:0'):\n",
    "    history = model.fit_generator(train_generator,\n",
    "                              epochs=50,\n",
    "                              callbacks = [callbacks],\n",
    "                              verbose=1,\n",
    "                              validation_data=validation_generator)"
   ]
  },
  {
   "cell_type": "code",
   "execution_count": 6,
   "id": "f2e94da2",
   "metadata": {
    "scrolled": false
   },
   "outputs": [
    {
     "name": "stdout",
     "output_type": "stream",
     "text": [
      "dict_keys(['loss', 'accuracy', 'val_loss', 'val_accuracy'])\n"
     ]
    },
    {
     "data": {
      "image/png": "[encoded data removed]",
      "text/plain": [
       "<Figure size 432x288 with 1 Axes>"
      ]
     },
     "metadata": {
      "needs_background": "light"
     },
     "output_type": "display_data"
    },
    {
     "data": {
      "image/png": "[encoded data removed]",
      "text/plain": [
       "<Figure size 432x288 with 1 Axes>"
      ]
     },
     "metadata": {
      "needs_background": "light"
     },
     "output_type": "display_data"
    }
   ],
   "source": [
    "#Plot grafik akurasi dan loss\n",
    "import matplotlib.pyplot as plt\n",
    "\n",
    "print(history.history.keys())\n",
    "#Akurasi\n",
    "plt.plot(history.history['accuracy'])\n",
    "plt.plot(history.history['val_accuracy'])\n",
    "plt.title('model accuracy')\n",
    "plt.ylabel('accuracy')\n",
    "plt.xlabel('epoch')\n",
    "plt.legend(['train', 'validation'], loc='upper left')\n",
    "plt.show()\n",
    "#Loss\n",
    "plt.plot(history.history['loss'])\n",
    "plt.plot(history.history['val_loss'])\n",
    "plt.title('model loss')\n",
    "plt.ylabel('loss')\n",
    "plt.xlabel('epoch')\n",
    "plt.legend(['train', 'validation'], loc='upper left')\n",
    "plt.show()"
   ]
  },
  {
   "cell_type": "code",
   "execution_count": 12,
   "id": "d3acbbf0",
   "metadata": {
    "scrolled": true
   },
   "outputs": [
    {
     "name": "stdout",
     "output_type": "stream",
     "text": [
      "['normal', 'normal', 'abnormal', 'normal', 'normal', 'normal', 'normal', 'normal', 'normal', 'normal', 'abnormal', 'normal', 'normal', 'abnormal', 'normal', 'abnormal', 'normal', 'normal', 'abnormal', 'normal', 'abnormal', 'normal', 'normal', 'normal', 'normal', 'normal', 'normal', 'normal', 'normal', 'normal', 'normal', 'abnormal', 'normal', 'normal', 'normal', 'normal', 'abnormal', 'normal', 'normal', 'normal', 'abnormal', 'normal', 'normal', 'normal', 'abnormal', 'normal', 'normal', 'abnormal', 'normal', 'normal', 'normal', 'normal', 'normal', 'normal', 'normal', 'normal', 'normal', 'normal', 'normal', 'normal', 'normal', 'normal', 'normal', 'normal', 'normal', 'normal', 'normal', 'normal', 'normal', 'normal', 'normal', 'normal', 'abnormal', 'normal', 'abnormal', 'normal', 'normal', 'normal', 'normal', 'normal', 'normal', 'normal', 'abnormal', 'normal', 'normal', 'normal', 'normal', 'normal', 'normal', 'normal', 'normal', 'normal', 'normal', 'normal', 'normal', 'normal', 'normal', 'normal', 'normal', 'normal', 'normal', 'normal', 'normal', 'normal', 'normal', 'normal', 'normal', 'normal', 'normal', 'normal', 'normal', 'normal', 'normal', 'normal', 'normal', 'normal', 'normal', 'normal', 'normal', 'normal', 'normal', 'normal', 'normal', 'abnormal', 'normal', 'normal', 'normal', 'normal', 'normal', 'normal', 'normal', 'normal', 'normal', 'normal', 'normal', 'normal', 'normal', 'normal', 'normal', 'normal', 'normal', 'normal', 'normal', 'normal', 'normal', 'normal', 'normal', 'normal', 'normal', 'normal', 'normal', 'normal', 'normal', 'normal', 'normal', 'normal', 'normal', 'normal', 'normal', 'normal', 'normal', 'normal', 'normal', 'normal', 'normal', 'normal', 'normal', 'normal', 'normal', 'normal', 'normal', 'normal', 'normal', 'normal', 'normal', 'normal', 'normal', 'normal', 'normal', 'normal', 'normal', 'normal', 'normal', 'normal', 'normal', 'normal', 'normal', 'normal', 'normal', 'normal', 'normal', 'normal', 'normal', 'normal', 'normal', 'normal', 'normal', 'normal', 'normal', 'normal', 'normal', 'normal', 'normal', 'normal', 'normal', 'normal', 'abnormal', 'abnormal', 'normal', 'normal', 'normal', 'abnormal', 'normal', 'normal', 'normal', 'normal', 'normal', 'normal', 'normal', 'normal', 'normal', 'normal', 'normal', 'normal', 'normal', 'normal', 'normal', 'normal', 'normal', 'normal', 'normal', 'normal', 'normal', 'abnormal', 'normal', 'normal', 'normal', 'normal', 'normal', 'normal', 'normal', 'abnormal', 'normal', 'normal', 'abnormal', 'normal', 'normal', 'normal', 'normal', 'normal', 'normal', 'normal', 'abnormal', 'normal', 'normal', 'normal', 'normal', 'normal', 'normal', 'normal', 'normal', 'normal', 'normal', 'abnormal', 'normal', 'abnormal', 'normal', 'normal', 'normal', 'normal', 'normal', 'normal', 'normal', 'normal', 'normal', 'normal', 'normal', 'abnormal', 'normal', 'abnormal', 'abnormal', 'normal', 'normal', 'normal', 'normal', 'normal', 'normal', 'normal', 'normal', 'normal', 'abnormal', 'normal', 'abnormal', 'abnormal', 'normal', 'abnormal', 'abnormal', 'normal', 'normal', 'normal', 'normal', 'abnormal', 'abnormal', 'abnormal', 'normal', 'normal', 'normal', 'normal', 'normal', 'normal', 'normal', 'normal', 'normal', 'normal', 'normal', 'normal', 'normal', 'normal', 'normal', 'normal', 'normal', 'normal', 'normal', 'normal', 'normal', 'abnormal', 'normal', 'normal', 'normal', 'normal', 'normal', 'normal', 'normal', 'normal', 'normal', 'normal', 'normal', 'normal', 'normal', 'normal', 'normal', 'normal', 'normal', 'normal', 'normal', 'normal', 'abnormal', 'normal', 'normal', 'normal', 'normal', 'abnormal', 'abnormal', 'normal', 'normal', 'normal', 'normal', 'normal', 'normal', 'normal', 'normal', 'normal', 'normal']\n",
      "324\n",
      "39\n"
     ]
    }
   ],
   "source": [
    "import numpy as np\n",
    "from keras.preprocessing import image\n",
    "from tensorflow import keras\n",
    "import os\n",
    "images = []\n",
    "img_width, img_height = 224,224\n",
    "folder_path = 'C:/Users/M Cendekia Airlangga/Dataset/02_Dataset baru/test/normal'\n",
    "for img in os.listdir(folder_path):\n",
    "    img = os.path.join(folder_path, img)\n",
    "    img = image.load_img(img, target_size=(img_width, img_height))\n",
    "    img = image.img_to_array(img)\n",
    "    img = np.expand_dims(img, axis=0)\n",
    "    images.append(img)\n",
    "\n",
    "# stack up images list to pass for prediction\n",
    "images = np.vstack(images)\n",
    "classes = model.predict(images, batch_size=10)\n",
    "pred = []\n",
    "for kelas in classes:\n",
    "    if kelas[0] >= 0.95:\n",
    "        pred.append('normal')\n",
    "    elif kelas[0] < 0.95:\n",
    "        pred.append('abnormal')\n",
    "print(pred)\n",
    "print(pred.count('normal'))\n",
    "print(pred.count('abnormal'))"
   ]
  },
  {
   "cell_type": "code",
   "execution_count": 13,
   "id": "a0bc5277",
   "metadata": {
    "scrolled": true
   },
   "outputs": [
    {
     "name": "stdout",
     "output_type": "stream",
     "text": [
      "['abnormal', 'abnormal', 'abnormal', 'abnormal', 'abnormal', 'abnormal', 'abnormal', 'abnormal', 'abnormal', 'abnormal', 'abnormal', 'abnormal', 'abnormal', 'abnormal', 'abnormal', 'abnormal', 'abnormal', 'abnormal', 'abnormal', 'abnormal', 'abnormal', 'abnormal', 'abnormal', 'abnormal', 'abnormal', 'abnormal', 'abnormal', 'abnormal', 'abnormal', 'abnormal', 'abnormal', 'abnormal', 'abnormal', 'abnormal', 'abnormal', 'abnormal', 'abnormal', 'abnormal', 'abnormal', 'abnormal', 'abnormal', 'abnormal', 'abnormal', 'abnormal', 'abnormal', 'abnormal', 'abnormal', 'abnormal', 'abnormal', 'abnormal', 'abnormal', 'abnormal', 'abnormal', 'abnormal', 'abnormal', 'abnormal', 'abnormal', 'abnormal', 'abnormal', 'abnormal', 'abnormal', 'abnormal', 'abnormal', 'abnormal', 'abnormal', 'abnormal', 'abnormal', 'abnormal', 'abnormal', 'abnormal', 'abnormal', 'abnormal', 'abnormal', 'abnormal', 'abnormal', 'abnormal', 'abnormal', 'abnormal', 'abnormal', 'abnormal', 'abnormal', 'abnormal', 'abnormal', 'abnormal', 'abnormal', 'abnormal', 'abnormal', 'abnormal', 'abnormal', 'abnormal', 'abnormal', 'abnormal', 'abnormal', 'abnormal', 'abnormal', 'abnormal', 'abnormal', 'abnormal', 'abnormal', 'abnormal', 'abnormal', 'abnormal', 'abnormal', 'abnormal', 'abnormal', 'abnormal', 'abnormal', 'abnormal', 'abnormal', 'abnormal', 'abnormal', 'abnormal', 'abnormal', 'abnormal', 'abnormal', 'abnormal', 'abnormal', 'abnormal', 'abnormal', 'normal', 'abnormal', 'abnormal', 'abnormal', 'abnormal', 'abnormal', 'abnormal', 'abnormal', 'abnormal', 'abnormal', 'abnormal', 'abnormal', 'abnormal', 'abnormal', 'abnormal', 'abnormal', 'abnormal', 'abnormal', 'abnormal', 'abnormal', 'abnormal', 'abnormal', 'abnormal', 'abnormal', 'abnormal', 'abnormal', 'abnormal', 'abnormal', 'abnormal', 'abnormal', 'abnormal', 'abnormal', 'abnormal', 'abnormal', 'abnormal', 'abnormal', 'abnormal', 'abnormal', 'abnormal', 'abnormal', 'normal', 'normal', 'normal', 'normal', 'abnormal', 'abnormal', 'abnormal', 'abnormal', 'abnormal', 'abnormal', 'abnormal', 'abnormal', 'abnormal', 'abnormal', 'abnormal', 'normal', 'normal', 'abnormal', 'abnormal', 'abnormal', 'abnormal', 'normal', 'abnormal', 'abnormal', 'abnormal', 'abnormal', 'normal', 'abnormal', 'abnormal', 'abnormal', 'abnormal', 'abnormal', 'abnormal', 'abnormal', 'abnormal', 'abnormal', 'abnormal', 'abnormal', 'abnormal', 'abnormal', 'abnormal', 'abnormal', 'abnormal', 'abnormal', 'abnormal', 'abnormal']\n",
      "9\n",
      "196\n"
     ]
    }
   ],
   "source": [
    "import numpy as np\n",
    "from keras.preprocessing import image\n",
    "import os\n",
    "images = []\n",
    "img_width, img_height = 224,224\n",
    "folder_path = 'C:/Users/M Cendekia Airlangga/Dataset/02_Dataset baru/test/st abnormal'\n",
    "for img in os.listdir(folder_path):\n",
    "    img = os.path.join(folder_path, img)\n",
    "    img = image.load_img(img, target_size=(img_width, img_height))\n",
    "    img = image.img_to_array(img)\n",
    "    img = np.expand_dims(img, axis=0)\n",
    "    images.append(img)\n",
    "\n",
    "# stack up images list to pass for prediction\n",
    "images = np.vstack(images)\n",
    "classes = model.predict(images, batch_size=10)\n",
    "pred1 = []\n",
    "for kelas in classes:\n",
    "    if kelas[1] >= 0.95:\n",
    "        pred1.append('abnormal')\n",
    "    elif kelas[1] < 0.95:\n",
    "        pred1.append('normal')\n",
    "print(pred1)\n",
    "print(pred1.count('normal'))\n",
    "print(pred1.count('abnormal'))"
   ]
  },
  {
   "cell_type": "code",
   "execution_count": 7,
   "id": "a072c16c",
   "metadata": {},
   "outputs": [],
   "source": [
    "model.save('D:/Kuliah/PKM/PKM Jantung/Model/200 epochs/VGG16_dropout0.2_lr5e-6_tf22.h5')"
   ]
  },
  {
   "cell_type": "code",
   "execution_count": 37,
   "id": "73bc7451",
   "metadata": {},
   "outputs": [
    {
     "data": {
      "text/plain": [
       "array([[9.9998474e-01, 1.5204868e-05]], dtype=float32)"
      ]
     },
     "execution_count": 37,
     "metadata": {},
     "output_type": "execute_result"
    }
   ],
   "source": [
    "import numpy as np\n",
    "from keras.preprocessing import image\n",
    "\n",
    "img_width, img_height = 224, 224\n",
    "img = image.load_img('C:/Users/M Cendekia Airlangga/Pictures/Coba-Angga2.png', target_size = (img_width, img_height))\n",
    "img = image.img_to_array(img)\n",
    "img = np.expand_dims(img, axis = 0)\n",
    "\n",
    "model.predict(img)"
   ]
  },
  {
   "cell_type": "code",
   "execution_count": 2,
   "id": "70b4d53d",
   "metadata": {},
   "outputs": [],
   "source": [
    "import tensorflow as tf\n",
    "new_model= tf.keras.models.load_model(filepath=\"D:/Kuliah/PKM/PKM Jantung/Model/200 epochs/VGG16_dropout0.2_lr5e-6.h5\")"
   ]
  },
  {
   "cell_type": "code",
   "execution_count": 3,
   "id": "8636626a",
   "metadata": {},
   "outputs": [
    {
     "name": "stdout",
     "output_type": "stream",
     "text": [
      "INFO:tensorflow:Assets written to: C:\\Users\\MCENDE~1\\AppData\\Local\\Temp\\tmpi3way297\\assets\n"
     ]
    },
    {
     "data": {
      "text/plain": [
       "110255304"
      ]
     },
     "execution_count": 3,
     "metadata": {},
     "output_type": "execute_result"
    }
   ],
   "source": [
    "#Converting To TFLite\n",
    "tflite_converter = tf.lite.TFLiteConverter.from_keras_model(new_model)\n",
    "tflite_model = tflite_converter.convert()\n",
    "open(\"tf_lite_model_tf2.5.tflite\", \"wb\").write(tflite_model)"
   ]
  },
  {
   "cell_type": "code",
   "execution_count": 12,
   "id": "0a0ea38c",
   "metadata": {},
   "outputs": [
    {
     "name": "stdout",
     "output_type": "stream",
     "text": [
      "[[9.99984741e-01 1.52290295e-05]]\n"
     ]
    }
   ],
   "source": [
    "import numpy as np\n",
    "import tensorflow as tf\n",
    "from tensorflow.keras.preprocessing import image\n",
    "\n",
    "# Load TFLite model and allocate tensors.\n",
    "interpreter = tf.lite.Interpreter(model_path=\"C:/Users/M Cendekia Airlangga/tf_lite_model_tf2.5.tflite\")\n",
    "interpreter.allocate_tensors()\n",
    "\n",
    "# Get input and output tensors.\n",
    "input_details = interpreter.get_input_details()\n",
    "output_details = interpreter.get_output_details()\n",
    "\n",
    "#Convert Input Image to Array \n",
    "img_width, img_height = 224, 224\n",
    "img = image.load_img('C:/Users/M Cendekia Airlangga/Pictures/Coba-Angga2.png', target_size = (img_width, img_height))\n",
    "img = image.img_to_array(img)\n",
    "img = np.expand_dims(img, axis = 0)\n",
    "\n",
    "# Test model on input data. \n",
    "input_shape = input_details[0]['shape']\n",
    "input_data = np.array(img) \n",
    "interpreter.set_tensor(input_details[0]['index'], input_data)\n",
    "\n",
    "interpreter.invoke()\n",
    "\n",
    "# The function `get_tensor()` returns a copy of the tensor data.\n",
    "# Use `tensor()` in order to get a pointer to the tensor.\n",
    "# index 0 normal, index 1 abnormal\n",
    "output_data = interpreter.get_tensor(output_details[0]['index'])\n",
    "print(output_data)"
   ]
  },
  {
   "cell_type": "code",
   "execution_count": null,
   "id": "0099bf70",
   "metadata": {},
   "outputs": [],
   "source": []
  }
 ],
 "metadata": {
  "kernelspec": {
   "display_name": "Python 3",
   "language": "python",
   "name": "python3"
  },
  "language_info": {
   "codemirror_mode": {
    "name": "ipython",
    "version": 3
   },
   "file_extension": ".py",
   "mimetype": "text/x-python",
   "name": "python",
   "nbconvert_exporter": "python",
   "pygments_lexer": "ipython3",
   "version": "3.8.0"
  }
 },
 "nbformat": 4,
 "nbformat_minor": 5
}
